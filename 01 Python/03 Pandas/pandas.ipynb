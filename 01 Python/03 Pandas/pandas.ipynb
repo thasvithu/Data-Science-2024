{
 "cells": [
  {
   "cell_type": "markdown",
   "id": "bd0ae525",
   "metadata": {},
   "source": [
    "# Pandas is a powerful Python library used for data analysis and manipulation.\n",
    "\n",
    "## Here's a quick overview of Pandas:\n",
    "\n",
    "### What it does:\n",
    "\n",
    "* Loads and cleans datasets of various formats (CSV, Excel, SQL databases, etc.).\n",
    "\n",
    "* Creates and manipulates data structures like DataFrames (similar to spreadsheets) and Series (single arrays).\n",
    "\n",
    "* Performs data analysis tasks like filtering, sorting, grouping, aggregating, and statistical calculations.\n",
    "\n",
    "* Enables data visualization through built-in plotting functions and integration with other libraries like Matplotlib.\n",
    "\n",
    "### Why it's popular:\n",
    "\n",
    "* Easy to learn: User-friendly syntax and extensive documentation make it accessible to users of all levels.\n",
    "\n",
    "* Powerful and versatile: Handles a wide range of data types and analysis tasks.\n",
    "\n",
    "* Integrates well with other libraries: Works seamlessly with popular scientific computing libraries like NumPy and SciPy.\n",
    "\n",
    "* Open-source and community-driven: Continuously improving with active development and a helpful community.\n",
    "\n",
    "### Who uses it:\n",
    "\n",
    "* Data scientists, analysts, and researchers.\n",
    "\n",
    "* Financial analysts and economists.\n",
    "\n",
    "* Machine learning engineers and developers.\n",
    "\n",
    "* Anyone who needs to work with and analyze data effectively."
   ]
  },
  {
   "cell_type": "markdown",
   "id": "8883c664",
   "metadata": {},
   "source": [
    "## What is Data Frames?\n",
    "\n",
    "DataFrames are the **backbone of Pandas**, serving as the primary data structure for holding and manipulating data. Think of them as **flexible, multi-dimensional tables** similar to spreadsheets, but with much more power and functionality.\n",
    "\n",
    "Here's a closer look at DataFrames:\n",
    "\n",
    "**Structure:**\n",
    "\n",
    "* **Rows:** Represent individual records or observations.\n",
    "* **Columns:** Represent variables or features within each record.\n",
    "* **Cells:** Intersection of rows and columns, containing specific data points.\n",
    "\n",
    "**Data Types:**\n",
    "\n",
    "* Can hold various data types in each cell, such as numbers, strings, booleans, dates, and even other DataFrames (nested!).\n",
    "* Allows mixing data types within columns, providing flexibility for diverse data sets.\n",
    "\n",
    "**Key Features:**\n",
    "\n",
    "* **Indexing and selection:** Access specific rows, columns, or cells using labels, positions, or logical conditions.\n",
    "* **Operations:** Perform calculations, aggregations, filtering, and sorting on data within columns or rows.\n",
    "* **Merging and joining:** Combine data from multiple DataFrames based on shared information.\n",
    "* **Visualization:** Easily visualize data patterns and relationships through built-in plotting functions.\n",
    "\n",
    "**Benefits:**\n",
    "\n",
    "* **Organized data representation:** Provides a clear and structured way to view and work with complex data sets.\n",
    "* **Efficient data manipulation:** Offers powerful tools for cleaning, analyzing, and preparing data for further analysis.\n",
    "* **Flexibility and versatility:** Adapts to various data types and analysis needs, making it a versatile tool for diverse tasks.\n",
    "\n",
    "**In summary, DataFrames are the workhorses of Pandas.** They offer a user-friendly and powerful way to manage and analyze data, making them essential for anyone working with data science, analytics, or research.\n",
    "\n"
   ]
  },
  {
   "cell_type": "code",
   "execution_count": 66,
   "id": "db6bc2af",
   "metadata": {},
   "outputs": [],
   "source": [
    "#import the pandas\n",
    "\n",
    "import pandas as pd\n",
    "import numpy as np"
   ]
  },
  {
   "cell_type": "code",
   "execution_count": 67,
   "id": "536cd2c2",
   "metadata": {},
   "outputs": [],
   "source": [
    "#playing with dataframe\n",
    "\n",
    "df = pd.DataFrame(np.arange(0, 24).reshape(6, 4), index = [\"Row1\", \"Row2\", \"Row3\", \"Row4\", \"Row5\", \"Row5\"], columns = [\"Column1\", \"Column2\", \"Column3\", \"Column4\"])"
   ]
  },
  {
   "cell_type": "code",
   "execution_count": 68,
   "id": "aac64ed3",
   "metadata": {
    "scrolled": true
   },
   "outputs": [
    {
     "data": {
      "text/html": [
       "<div>\n",
       "<style scoped>\n",
       "    .dataframe tbody tr th:only-of-type {\n",
       "        vertical-align: middle;\n",
       "    }\n",
       "\n",
       "    .dataframe tbody tr th {\n",
       "        vertical-align: top;\n",
       "    }\n",
       "\n",
       "    .dataframe thead th {\n",
       "        text-align: right;\n",
       "    }\n",
       "</style>\n",
       "<table border=\"1\" class=\"dataframe\">\n",
       "  <thead>\n",
       "    <tr style=\"text-align: right;\">\n",
       "      <th></th>\n",
       "      <th>Column1</th>\n",
       "      <th>Column2</th>\n",
       "      <th>Column3</th>\n",
       "      <th>Column4</th>\n",
       "    </tr>\n",
       "  </thead>\n",
       "  <tbody>\n",
       "    <tr>\n",
       "      <th>Row1</th>\n",
       "      <td>0</td>\n",
       "      <td>1</td>\n",
       "      <td>2</td>\n",
       "      <td>3</td>\n",
       "    </tr>\n",
       "    <tr>\n",
       "      <th>Row2</th>\n",
       "      <td>4</td>\n",
       "      <td>5</td>\n",
       "      <td>6</td>\n",
       "      <td>7</td>\n",
       "    </tr>\n",
       "    <tr>\n",
       "      <th>Row3</th>\n",
       "      <td>8</td>\n",
       "      <td>9</td>\n",
       "      <td>10</td>\n",
       "      <td>11</td>\n",
       "    </tr>\n",
       "    <tr>\n",
       "      <th>Row4</th>\n",
       "      <td>12</td>\n",
       "      <td>13</td>\n",
       "      <td>14</td>\n",
       "      <td>15</td>\n",
       "    </tr>\n",
       "    <tr>\n",
       "      <th>Row5</th>\n",
       "      <td>16</td>\n",
       "      <td>17</td>\n",
       "      <td>18</td>\n",
       "      <td>19</td>\n",
       "    </tr>\n",
       "  </tbody>\n",
       "</table>\n",
       "</div>"
      ],
      "text/plain": [
       "      Column1  Column2  Column3  Column4\n",
       "Row1        0        1        2        3\n",
       "Row2        4        5        6        7\n",
       "Row3        8        9       10       11\n",
       "Row4       12       13       14       15\n",
       "Row5       16       17       18       19"
      ]
     },
     "execution_count": 68,
     "metadata": {},
     "output_type": "execute_result"
    }
   ],
   "source": [
    "df.head()"
   ]
  },
  {
   "cell_type": "markdown",
   "id": "65405217",
   "metadata": {},
   "source": [
    "#### **NOTE ==>** head(): This is a built-in method of pandas. DataFrame. It returns the first five rows of the DataFrame."
   ]
  },
  {
   "cell_type": "code",
   "execution_count": 69,
   "id": "02017e07",
   "metadata": {},
   "outputs": [],
   "source": [
    "df.to_csv(\"test.csv\")"
   ]
  },
  {
   "cell_type": "markdown",
   "id": "78c41bc9",
   "metadata": {},
   "source": [
    "#### **to_csv()** Built-in method in Pandas to save DataFrames as CSV files."
   ]
  },
  {
   "cell_type": "markdown",
   "id": "1e9e57f0",
   "metadata": {},
   "source": [
    "## Accessing DataFrame Elements: Cheat Sheet\n",
    "\n",
    "**Label-based:**\n",
    "\n",
    "* **Single element:** `df['column']['row']`\n",
    "* **Column:** `df['column_name']`\n",
    "* **Multiple columns:** `df[['col1', 'col2']]`\n",
    "\n",
    "**Position-based (iloc):**\n",
    "\n",
    "* **Row:** `df.iloc[row_index]`\n",
    "* **Specific element:** `df.iloc[row_index, col_index]`\n",
    "* **Subset:** `df.iloc[start_row:end_row, start_col:end_col]`\n",
    "\n",
    "**Boolean Indexing:**\n",
    "\n",
    "* **Conditionally select rows:** `df[df['column'] > value]`\n",
    "\n",
    "**Tips:**\n",
    "\n",
    "* Indices start from 0.\n",
    "* Use `df.head()` to understand structure.\n",
    "* More advanced options in Pandas documentation.\n",
    "\n",
    "**Bonus:**\n",
    "\n",
    "* Use `df.loc` for non-integer labels.\n",
    "* Use `df.at`/`df.iat` for faster scalar access."
   ]
  },
  {
   "cell_type": "code",
   "execution_count": 70,
   "id": "207f2ada",
   "metadata": {},
   "outputs": [],
   "source": [
    "df = pd.DataFrame(np.arange(0, 24).reshape(6, 4), index = [\"Row1\", \"Row2\", \"Row3\", \"Row4\", \"Row5\", \"Row5\"], columns = [\"Column1\", \"Column2\", \"Column3\", \"Column4\"])"
   ]
  },
  {
   "cell_type": "code",
   "execution_count": 71,
   "id": "56e50015",
   "metadata": {},
   "outputs": [
    {
     "data": {
      "text/html": [
       "<div>\n",
       "<style scoped>\n",
       "    .dataframe tbody tr th:only-of-type {\n",
       "        vertical-align: middle;\n",
       "    }\n",
       "\n",
       "    .dataframe tbody tr th {\n",
       "        vertical-align: top;\n",
       "    }\n",
       "\n",
       "    .dataframe thead th {\n",
       "        text-align: right;\n",
       "    }\n",
       "</style>\n",
       "<table border=\"1\" class=\"dataframe\">\n",
       "  <thead>\n",
       "    <tr style=\"text-align: right;\">\n",
       "      <th></th>\n",
       "      <th>Column1</th>\n",
       "      <th>Column2</th>\n",
       "      <th>Column3</th>\n",
       "      <th>Column4</th>\n",
       "    </tr>\n",
       "  </thead>\n",
       "  <tbody>\n",
       "    <tr>\n",
       "      <th>Row1</th>\n",
       "      <td>0</td>\n",
       "      <td>1</td>\n",
       "      <td>2</td>\n",
       "      <td>3</td>\n",
       "    </tr>\n",
       "    <tr>\n",
       "      <th>Row2</th>\n",
       "      <td>4</td>\n",
       "      <td>5</td>\n",
       "      <td>6</td>\n",
       "      <td>7</td>\n",
       "    </tr>\n",
       "    <tr>\n",
       "      <th>Row3</th>\n",
       "      <td>8</td>\n",
       "      <td>9</td>\n",
       "      <td>10</td>\n",
       "      <td>11</td>\n",
       "    </tr>\n",
       "    <tr>\n",
       "      <th>Row4</th>\n",
       "      <td>12</td>\n",
       "      <td>13</td>\n",
       "      <td>14</td>\n",
       "      <td>15</td>\n",
       "    </tr>\n",
       "    <tr>\n",
       "      <th>Row5</th>\n",
       "      <td>16</td>\n",
       "      <td>17</td>\n",
       "      <td>18</td>\n",
       "      <td>19</td>\n",
       "    </tr>\n",
       "  </tbody>\n",
       "</table>\n",
       "</div>"
      ],
      "text/plain": [
       "      Column1  Column2  Column3  Column4\n",
       "Row1        0        1        2        3\n",
       "Row2        4        5        6        7\n",
       "Row3        8        9       10       11\n",
       "Row4       12       13       14       15\n",
       "Row5       16       17       18       19"
      ]
     },
     "execution_count": 71,
     "metadata": {},
     "output_type": "execute_result"
    }
   ],
   "source": [
    "df.head()"
   ]
  },
  {
   "cell_type": "code",
   "execution_count": 72,
   "id": "048fcbfc",
   "metadata": {
    "scrolled": true
   },
   "outputs": [
    {
     "data": {
      "text/plain": [
       "0"
      ]
     },
     "execution_count": 72,
     "metadata": {},
     "output_type": "execute_result"
    }
   ],
   "source": [
    "df[\"Column1\"][\"Row1\"]"
   ]
  },
  {
   "cell_type": "code",
   "execution_count": 73,
   "id": "32c1cc53",
   "metadata": {},
   "outputs": [
    {
     "data": {
      "text/plain": [
       "Row1     0\n",
       "Row2     4\n",
       "Row3     8\n",
       "Row4    12\n",
       "Row5    16\n",
       "Row5    20\n",
       "Name: Column1, dtype: int32"
      ]
     },
     "execution_count": 73,
     "metadata": {},
     "output_type": "execute_result"
    }
   ],
   "source": [
    "df[\"Column1\"]"
   ]
  },
  {
   "cell_type": "code",
   "execution_count": 74,
   "id": "155caf22",
   "metadata": {},
   "outputs": [
    {
     "data": {
      "text/html": [
       "<div>\n",
       "<style scoped>\n",
       "    .dataframe tbody tr th:only-of-type {\n",
       "        vertical-align: middle;\n",
       "    }\n",
       "\n",
       "    .dataframe tbody tr th {\n",
       "        vertical-align: top;\n",
       "    }\n",
       "\n",
       "    .dataframe thead th {\n",
       "        text-align: right;\n",
       "    }\n",
       "</style>\n",
       "<table border=\"1\" class=\"dataframe\">\n",
       "  <thead>\n",
       "    <tr style=\"text-align: right;\">\n",
       "      <th></th>\n",
       "      <th>Column1</th>\n",
       "      <th>Column2</th>\n",
       "    </tr>\n",
       "  </thead>\n",
       "  <tbody>\n",
       "    <tr>\n",
       "      <th>Row1</th>\n",
       "      <td>0</td>\n",
       "      <td>1</td>\n",
       "    </tr>\n",
       "    <tr>\n",
       "      <th>Row2</th>\n",
       "      <td>4</td>\n",
       "      <td>5</td>\n",
       "    </tr>\n",
       "    <tr>\n",
       "      <th>Row3</th>\n",
       "      <td>8</td>\n",
       "      <td>9</td>\n",
       "    </tr>\n",
       "    <tr>\n",
       "      <th>Row4</th>\n",
       "      <td>12</td>\n",
       "      <td>13</td>\n",
       "    </tr>\n",
       "    <tr>\n",
       "      <th>Row5</th>\n",
       "      <td>16</td>\n",
       "      <td>17</td>\n",
       "    </tr>\n",
       "    <tr>\n",
       "      <th>Row5</th>\n",
       "      <td>20</td>\n",
       "      <td>21</td>\n",
       "    </tr>\n",
       "  </tbody>\n",
       "</table>\n",
       "</div>"
      ],
      "text/plain": [
       "      Column1  Column2\n",
       "Row1        0        1\n",
       "Row2        4        5\n",
       "Row3        8        9\n",
       "Row4       12       13\n",
       "Row5       16       17\n",
       "Row5       20       21"
      ]
     },
     "execution_count": 74,
     "metadata": {},
     "output_type": "execute_result"
    }
   ],
   "source": [
    "df[[\"Column1\", \"Column2\"]]"
   ]
  },
  {
   "cell_type": "code",
   "execution_count": 75,
   "id": "054a7688",
   "metadata": {},
   "outputs": [
    {
     "data": {
      "text/plain": [
       "Column1    0\n",
       "Column2    1\n",
       "Column3    2\n",
       "Column4    3\n",
       "Name: Row1, dtype: int32"
      ]
     },
     "execution_count": 75,
     "metadata": {},
     "output_type": "execute_result"
    }
   ],
   "source": [
    "df.loc[\"Row1\"]"
   ]
  },
  {
   "cell_type": "code",
   "execution_count": 76,
   "id": "8c7a6bd8",
   "metadata": {},
   "outputs": [
    {
     "data": {
      "text/plain": [
       "pandas.core.series.Series"
      ]
     },
     "execution_count": 76,
     "metadata": {},
     "output_type": "execute_result"
    }
   ],
   "source": [
    "type(df.loc[\"Row1\"])"
   ]
  },
  {
   "cell_type": "markdown",
   "id": "aec75fed",
   "metadata": {},
   "source": [
    "## Data Series: Quick Guide\n",
    "\n",
    "* **1. DataFrame Column:**\n",
    "    - Single column of data within a Pandas DataFrame.\n",
    "    - Think 1D list of specific variable/feature values.\n",
    "    - Accessed & manipulated like DataFrames (focused on column).\n",
    "* **2. Independent Data Sequence:**\n",
    "    - Any ordered set of data points, not part of a DataFrame.\n",
    "    - Temperatures over time, stock prices, etc.\n",
    "    - Analyzed for trends, patterns, & relationships.\n",
    "\n",
    "**Remember:**\n",
    "\n",
    "- Consider context to determine meaning.\n",
    "- Pandas: Data series = DataFrame column.\n",
    "- Other contexts: Data series = any independent data sequence.\n",
    "- Series can be either one row or one column."
   ]
  },
  {
   "cell_type": "code",
   "execution_count": 77,
   "id": "1afa2746",
   "metadata": {},
   "outputs": [
    {
     "data": {
      "text/html": [
       "<div>\n",
       "<style scoped>\n",
       "    .dataframe tbody tr th:only-of-type {\n",
       "        vertical-align: middle;\n",
       "    }\n",
       "\n",
       "    .dataframe tbody tr th {\n",
       "        vertical-align: top;\n",
       "    }\n",
       "\n",
       "    .dataframe thead th {\n",
       "        text-align: right;\n",
       "    }\n",
       "</style>\n",
       "<table border=\"1\" class=\"dataframe\">\n",
       "  <thead>\n",
       "    <tr style=\"text-align: right;\">\n",
       "      <th></th>\n",
       "      <th>Column1</th>\n",
       "      <th>Column2</th>\n",
       "    </tr>\n",
       "  </thead>\n",
       "  <tbody>\n",
       "    <tr>\n",
       "      <th>Row1</th>\n",
       "      <td>0</td>\n",
       "      <td>1</td>\n",
       "    </tr>\n",
       "    <tr>\n",
       "      <th>Row2</th>\n",
       "      <td>4</td>\n",
       "      <td>5</td>\n",
       "    </tr>\n",
       "  </tbody>\n",
       "</table>\n",
       "</div>"
      ],
      "text/plain": [
       "      Column1  Column2\n",
       "Row1        0        1\n",
       "Row2        4        5"
      ]
     },
     "execution_count": 77,
     "metadata": {},
     "output_type": "execute_result"
    }
   ],
   "source": [
    "df.iloc[0:2, 0:2]"
   ]
  },
  {
   "cell_type": "code",
   "execution_count": 78,
   "id": "007babf0",
   "metadata": {
    "scrolled": true
   },
   "outputs": [
    {
     "data": {
      "text/plain": [
       "pandas.core.frame.DataFrame"
      ]
     },
     "execution_count": 78,
     "metadata": {},
     "output_type": "execute_result"
    }
   ],
   "source": [
    "type(df.iloc[0:2, 0:2])"
   ]
  },
  {
   "cell_type": "code",
   "execution_count": 80,
   "id": "2a9aeab5",
   "metadata": {},
   "outputs": [
    {
     "data": {
      "text/plain": [
       "pandas.core.series.Series"
      ]
     },
     "execution_count": 80,
     "metadata": {},
     "output_type": "execute_result"
    }
   ],
   "source": [
    "type(df.iloc[0:1, 0])"
   ]
  },
  {
   "cell_type": "markdown",
   "id": "b029cd88",
   "metadata": {},
   "source": [
    "## DataFrame to Array: Short Guide\n",
    "\n",
    "* **`to_numpy()`:** Entire DataFrame to NumPy array (copy).\n",
    "* **`.values`:** Access underlying NumPy array directly.\n",
    "* **Specific columns:** `df['col_name'].to_numpy()`.\n",
    "* **Multiple columns:** `df.iloc[:, [0, 2]].to_numpy()` (precise selection).\n",
    "\n",
    "**Tips:**\n",
    "\n",
    "* Choose method based on your needs (entire/specific data).\n",
    "* `to_numpy()` creates a copy, `.values` accesses directly.\n",
    "* DataFrames can have mixed types, arrays typically single type."
   ]
  },
  {
   "cell_type": "code",
   "execution_count": 82,
   "id": "0daeff3e",
   "metadata": {},
   "outputs": [
    {
     "data": {
      "text/plain": [
       "array([[ 1,  2,  3],\n",
       "       [ 5,  6,  7],\n",
       "       [ 9, 10, 11],\n",
       "       [13, 14, 15],\n",
       "       [17, 18, 19],\n",
       "       [21, 22, 23]])"
      ]
     },
     "execution_count": 82,
     "metadata": {},
     "output_type": "execute_result"
    }
   ],
   "source": [
    "df.iloc[:, 1:].values"
   ]
  },
  {
   "cell_type": "code",
   "execution_count": 84,
   "id": "1ca822d1",
   "metadata": {},
   "outputs": [
    {
     "data": {
      "text/plain": [
       "(6, 3)"
      ]
     },
     "execution_count": 84,
     "metadata": {},
     "output_type": "execute_result"
    }
   ],
   "source": [
    "df.iloc[:, 1:].values.shape"
   ]
  },
  {
   "cell_type": "code",
   "execution_count": 87,
   "id": "4d830e2a",
   "metadata": {},
   "outputs": [
    {
     "data": {
      "text/html": [
       "<div>\n",
       "<style scoped>\n",
       "    .dataframe tbody tr th:only-of-type {\n",
       "        vertical-align: middle;\n",
       "    }\n",
       "\n",
       "    .dataframe tbody tr th {\n",
       "        vertical-align: top;\n",
       "    }\n",
       "\n",
       "    .dataframe thead th {\n",
       "        text-align: right;\n",
       "    }\n",
       "</style>\n",
       "<table border=\"1\" class=\"dataframe\">\n",
       "  <thead>\n",
       "    <tr style=\"text-align: right;\">\n",
       "      <th></th>\n",
       "      <th>Column1</th>\n",
       "      <th>Column2</th>\n",
       "      <th>Column3</th>\n",
       "      <th>Column4</th>\n",
       "    </tr>\n",
       "  </thead>\n",
       "  <tbody>\n",
       "    <tr>\n",
       "      <th>Row1</th>\n",
       "      <td>False</td>\n",
       "      <td>False</td>\n",
       "      <td>False</td>\n",
       "      <td>False</td>\n",
       "    </tr>\n",
       "    <tr>\n",
       "      <th>Row2</th>\n",
       "      <td>False</td>\n",
       "      <td>False</td>\n",
       "      <td>False</td>\n",
       "      <td>False</td>\n",
       "    </tr>\n",
       "    <tr>\n",
       "      <th>Row3</th>\n",
       "      <td>False</td>\n",
       "      <td>False</td>\n",
       "      <td>False</td>\n",
       "      <td>False</td>\n",
       "    </tr>\n",
       "    <tr>\n",
       "      <th>Row4</th>\n",
       "      <td>False</td>\n",
       "      <td>False</td>\n",
       "      <td>False</td>\n",
       "      <td>False</td>\n",
       "    </tr>\n",
       "    <tr>\n",
       "      <th>Row5</th>\n",
       "      <td>False</td>\n",
       "      <td>False</td>\n",
       "      <td>False</td>\n",
       "      <td>False</td>\n",
       "    </tr>\n",
       "    <tr>\n",
       "      <th>Row5</th>\n",
       "      <td>False</td>\n",
       "      <td>False</td>\n",
       "      <td>False</td>\n",
       "      <td>False</td>\n",
       "    </tr>\n",
       "  </tbody>\n",
       "</table>\n",
       "</div>"
      ],
      "text/plain": [
       "      Column1  Column2  Column3  Column4\n",
       "Row1    False    False    False    False\n",
       "Row2    False    False    False    False\n",
       "Row3    False    False    False    False\n",
       "Row4    False    False    False    False\n",
       "Row5    False    False    False    False\n",
       "Row5    False    False    False    False"
      ]
     },
     "execution_count": 87,
     "metadata": {},
     "output_type": "execute_result"
    }
   ],
   "source": [
    "df.isnull() #FIND THE NULL VALUES IN DATAFRAME"
   ]
  },
  {
   "cell_type": "code",
   "execution_count": 89,
   "id": "2c1f12b2",
   "metadata": {},
   "outputs": [
    {
     "data": {
      "text/plain": [
       "Column1    0\n",
       "Column2    0\n",
       "Column3    0\n",
       "Column4    0\n",
       "dtype: int64"
      ]
     },
     "execution_count": 89,
     "metadata": {},
     "output_type": "execute_result"
    }
   ],
   "source": [
    "df.isnull().sum() #COUNT THE NULL VALUES"
   ]
  },
  {
   "cell_type": "code",
   "execution_count": 90,
   "id": "2cbe5909",
   "metadata": {},
   "outputs": [
    {
     "data": {
      "text/plain": [
       "Column1\n",
       "0     1\n",
       "4     1\n",
       "8     1\n",
       "12    1\n",
       "16    1\n",
       "20    1\n",
       "Name: count, dtype: int64"
      ]
     },
     "execution_count": 90,
     "metadata": {},
     "output_type": "execute_result"
    }
   ],
   "source": [
    "df[\"Column1\"].value_counts() #COUNT THE UNIQUE VALUES"
   ]
  },
  {
   "cell_type": "code",
   "execution_count": 91,
   "id": "01aef5b6",
   "metadata": {},
   "outputs": [
    {
     "data": {
      "text/plain": [
       "array([ 0,  4,  8, 12, 16, 20])"
      ]
     },
     "execution_count": 91,
     "metadata": {},
     "output_type": "execute_result"
    }
   ],
   "source": [
    "df[\"Column1\"].unique() #EXTRACTS THE UNIQUE, NON-DUPLICATED VALUES WITHIN A SPECIFIC COLUMN OF A DATAFRAME."
   ]
  },
  {
   "cell_type": "code",
   "execution_count": null,
   "id": "ea6c6748",
   "metadata": {},
   "outputs": [],
   "source": []
  }
 ],
 "metadata": {
  "kernelspec": {
   "display_name": "Python 3 (ipykernel)",
   "language": "python",
   "name": "python3"
  },
  "language_info": {
   "codemirror_mode": {
    "name": "ipython",
    "version": 3
   },
   "file_extension": ".py",
   "mimetype": "text/x-python",
   "name": "python",
   "nbconvert_exporter": "python",
   "pygments_lexer": "ipython3",
   "version": "3.11.5"
  }
 },
 "nbformat": 4,
 "nbformat_minor": 5
}
