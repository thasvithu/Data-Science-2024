{
 "cells": [
  {
   "cell_type": "markdown",
   "id": "d30511b7",
   "metadata": {},
   "source": [
    "# Question 1\n",
    "\n",
    "Problem:\n",
    "Suppose you are given the following data representing the sales performance of a company in three different regions over four quarters\n",
    "\n",
    "### Sales data (in millions)\n",
    "sales_data = np.array([\n",
    "\n",
    "    [12, 15, 18, 20],\n",
    "    \n",
    "    [8, 10, 12, 15],\n",
    "    \n",
    "    [10, 13, 16, 18]\n",
    "])\n",
    "\n",
    "### Regions and Quarters\n",
    "regions = ['North', 'South', 'East', 'West']\n",
    "\n",
    "quarters = ['Q1', 'Q2', 'Q3', 'Q4']\n",
    "\n",
    "\n",
    "Your task is to answer the following questions:\n",
    "\n",
    "1) Calculate the total sales for each region.\n",
    "2) Determine the quarter with the highest total sales.\n",
    "3) Find the region with the highest sales in a specific quarter (e.g., Q2).\n",
    "4) Calculate the average sales for each quarter.\n",
    "5) Normalize the sales data such that each region's sales are expressed as a percentage of the total sales in that quarter."
   ]
  },
  {
   "cell_type": "code",
   "execution_count": 1,
   "id": "da3df076",
   "metadata": {},
   "outputs": [],
   "source": [
    "import numpy as np"
   ]
  },
  {
   "cell_type": "code",
   "execution_count": 8,
   "id": "0f39495c",
   "metadata": {},
   "outputs": [],
   "source": [
    "sales_data = np.array([\n",
    "    [12, 15, 18, 20],\n",
    "    [8, 10, 12, 15],\n",
    "    [10, 13, 16, 18]\n",
    "])\n",
    "\n",
    "regions = ['North', 'South', 'East', 'West']\n",
    "\n",
    "quarters = ['Q1', 'Q2', 'Q3', 'Q4']"
   ]
  },
  {
   "cell_type": "code",
   "execution_count": 57,
   "id": "d5877299",
   "metadata": {},
   "outputs": [
    {
     "name": "stdout",
     "output_type": "stream",
     "text": [
      "57\n"
     ]
    }
   ],
   "source": [
    "#1. Calculate the total sales for each region.\n",
    "\n",
    "#North\n",
    "rows, cols = sales_data.shape\n",
    "sum = 0\n",
    "for i in range(rows):\n",
    "    sum = np.sum(sales_data[i:])\n",
    "print(sum)\n",
    "    "
   ]
  },
  {
   "cell_type": "code",
   "execution_count": null,
   "id": "f3d61d2b",
   "metadata": {},
   "outputs": [],
   "source": []
  }
 ],
 "metadata": {
  "kernelspec": {
   "display_name": "Python 3 (ipykernel)",
   "language": "python",
   "name": "python3"
  },
  "language_info": {
   "codemirror_mode": {
    "name": "ipython",
    "version": 3
   },
   "file_extension": ".py",
   "mimetype": "text/x-python",
   "name": "python",
   "nbconvert_exporter": "python",
   "pygments_lexer": "ipython3",
   "version": "3.11.5"
  }
 },
 "nbformat": 4,
 "nbformat_minor": 5
}
