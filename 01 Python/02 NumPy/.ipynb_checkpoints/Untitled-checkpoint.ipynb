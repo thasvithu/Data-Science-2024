{
 "cells": [
  {
   "cell_type": "markdown",
   "id": "e3bf9cb3",
   "metadata": {},
   "source": [
    "# NumPy: (2024.01.10)\n",
    "\n",
    "- **Numerical Computing:** NumPy is a Python library for numerical computations.\n",
    "- **Multidimensional Arrays:** Provides `ndarray`, allowing operations on multi-dimensional arrays.\n",
    "- **Efficient Operations:** Offers mathematical functions for array operations, enhancing performance.\n",
    "- **Broadcasting:** Performs implicit element-wise operations on arrays of different shapes.\n",
    "- **Linear Algebra:** Includes tools for matrix operations and linear algebra tasks.\n",
    "- **Integration:** Often used with Pandas, Matplotlib, and other data science libraries.\n",
    "- **Used in:** Data analysis, machine learning, scientific computing, and more."
   ]
  },
  {
   "cell_type": "code",
   "execution_count": 1,
   "id": "9d94c39d",
   "metadata": {},
   "outputs": [],
   "source": [
    "#initialy Lets import numpy\n",
    "import numpy as np"
   ]
  },
  {
   "cell_type": "code",
   "execution_count": 2,
   "id": "ab2ee710",
   "metadata": {},
   "outputs": [],
   "source": [
    "my_list = [1, 2, 3, 4, 5]\n",
    "arr = np.array(my_list)"
   ]
  },
  {
   "cell_type": "code",
   "execution_count": 3,
   "id": "9376eaca",
   "metadata": {},
   "outputs": [
    {
     "data": {
      "text/plain": [
       "numpy.ndarray"
      ]
     },
     "execution_count": 3,
     "metadata": {},
     "output_type": "execute_result"
    }
   ],
   "source": [
    "type(arr)"
   ]
  },
  {
   "cell_type": "code",
   "execution_count": 4,
   "id": "4c66c271",
   "metadata": {},
   "outputs": [
    {
     "name": "stdout",
     "output_type": "stream",
     "text": [
      "[1 2 3 4 5]\n"
     ]
    }
   ],
   "source": [
    "print(arr)"
   ]
  },
  {
   "cell_type": "code",
   "execution_count": 5,
   "id": "1810212e",
   "metadata": {},
   "outputs": [
    {
     "data": {
      "text/plain": [
       "array([1, 2, 3, 4, 5])"
      ]
     },
     "execution_count": 5,
     "metadata": {},
     "output_type": "execute_result"
    }
   ],
   "source": [
    "arr"
   ]
  },
  {
   "cell_type": "code",
   "execution_count": 6,
   "id": "63345478",
   "metadata": {},
   "outputs": [
    {
     "data": {
      "text/plain": [
       "(5,)"
      ]
     },
     "execution_count": 6,
     "metadata": {},
     "output_type": "execute_result"
    }
   ],
   "source": [
    "arr.shape #to find the size of the array"
   ]
  },
  {
   "cell_type": "code",
   "execution_count": 7,
   "id": "b49c27a6",
   "metadata": {},
   "outputs": [],
   "source": [
    "#Multinested array\n",
    "\n",
    "my_list1 = [1, 2, 3, 4, 5]\n",
    "my_list2 = [2, 3, 4, 5, 6]\n",
    "my_list3 = [9, 7, 6, 8, 9]\n",
    "\n",
    "arr = np.array([my_list1, my_list2, my_list3]) #Converting to multidimensional array"
   ]
  },
  {
   "cell_type": "code",
   "execution_count": 8,
   "id": "b80e3f3f",
   "metadata": {},
   "outputs": [
    {
     "data": {
      "text/plain": [
       "array([[1, 2, 3, 4, 5],\n",
       "       [2, 3, 4, 5, 6],\n",
       "       [9, 7, 6, 8, 9]])"
      ]
     },
     "execution_count": 8,
     "metadata": {},
     "output_type": "execute_result"
    }
   ],
   "source": [
    "arr"
   ]
  },
  {
   "cell_type": "code",
   "execution_count": 9,
   "id": "5f2f14c9",
   "metadata": {},
   "outputs": [
    {
     "data": {
      "text/plain": [
       "(3, 5)"
      ]
     },
     "execution_count": 9,
     "metadata": {},
     "output_type": "execute_result"
    }
   ],
   "source": [
    "#see the size of the array\n",
    "arr.shape"
   ]
  },
  {
   "cell_type": "code",
   "execution_count": 10,
   "id": "805626f3",
   "metadata": {},
   "outputs": [
    {
     "data": {
      "text/plain": [
       "array([[1, 2, 3, 4, 5],\n",
       "       [2, 3, 4, 5, 6],\n",
       "       [9, 7, 6, 8, 9]])"
      ]
     },
     "execution_count": 10,
     "metadata": {},
     "output_type": "execute_result"
    }
   ],
   "source": [
    "arr.reshape(3, 5)"
   ]
  },
  {
   "cell_type": "code",
   "execution_count": 11,
   "id": "234b0bf7",
   "metadata": {},
   "outputs": [
    {
     "data": {
      "text/plain": [
       "array([[1, 2, 3, 4, 5, 2, 3, 4, 5, 6, 9, 7, 6, 8, 9]])"
      ]
     },
     "execution_count": 11,
     "metadata": {},
     "output_type": "execute_result"
    }
   ],
   "source": [
    "arr.reshape(1, 15)"
   ]
  },
  {
   "cell_type": "markdown",
   "id": "f47e5a41",
   "metadata": {},
   "source": [
    "arr.reshape(3, 5) takes existing array arr and reshapes it into 3 rows, 5 columns.\n",
    "\n",
    "Keeps all elements from original array.\n",
    "\n",
    "Total number of elements must be the same for both shapes.\n",
    "\n",
    "No new data copy: just reinterprets existing data."
   ]
  },
  {
   "cell_type": "markdown",
   "id": "801049e5",
   "metadata": {},
   "source": [
    "## indexing"
   ]
  },
  {
   "cell_type": "code",
   "execution_count": 12,
   "id": "328dd84e",
   "metadata": {},
   "outputs": [],
   "source": [
    "arr = np.array([1, 2, 3, 4, 5, 6, 7, 8, 9])"
   ]
  },
  {
   "cell_type": "code",
   "execution_count": 13,
   "id": "738523c9",
   "metadata": {},
   "outputs": [
    {
     "data": {
      "text/plain": [
       "1"
      ]
     },
     "execution_count": 13,
     "metadata": {},
     "output_type": "execute_result"
    }
   ],
   "source": [
    "arr[0]"
   ]
  },
  {
   "cell_type": "code",
   "execution_count": 14,
   "id": "0621902f",
   "metadata": {},
   "outputs": [
    {
     "data": {
      "text/plain": [
       "(9,)"
      ]
     },
     "execution_count": 14,
     "metadata": {},
     "output_type": "execute_result"
    }
   ],
   "source": [
    "arr.shape"
   ]
  },
  {
   "cell_type": "code",
   "execution_count": 15,
   "id": "79a3662c",
   "metadata": {},
   "outputs": [],
   "source": [
    "multiArr = np.array([[1, 2, 3, 4, 5],\n",
    "            [2, 3, 4, 5, 6],\n",
    "            [9, 7, 6, 8, 9]])"
   ]
  },
  {
   "cell_type": "code",
   "execution_count": 16,
   "id": "9dde6c0c",
   "metadata": {
    "scrolled": false
   },
   "outputs": [
    {
     "data": {
      "text/plain": [
       "1"
      ]
     },
     "execution_count": 16,
     "metadata": {},
     "output_type": "execute_result"
    }
   ],
   "source": [
    "multiArr[0][0]"
   ]
  },
  {
   "cell_type": "code",
   "execution_count": 17,
   "id": "e372a758",
   "metadata": {},
   "outputs": [
    {
     "data": {
      "text/plain": [
       "array([[1, 2],\n",
       "       [2, 3]])"
      ]
     },
     "execution_count": 17,
     "metadata": {},
     "output_type": "execute_result"
    }
   ],
   "source": [
    "multiArr[0:2, 0:2]"
   ]
  },
  {
   "cell_type": "code",
   "execution_count": 18,
   "id": "b0849a8e",
   "metadata": {},
   "outputs": [
    {
     "data": {
      "text/plain": [
       "array([[5, 6],\n",
       "       [8, 9]])"
      ]
     },
     "execution_count": 18,
     "metadata": {},
     "output_type": "execute_result"
    }
   ],
   "source": [
    "multiArr[1:4, 3:5]"
   ]
  },
  {
   "cell_type": "code",
   "execution_count": 19,
   "id": "a8219bc5",
   "metadata": {},
   "outputs": [
    {
     "data": {
      "text/plain": [
       "array([[2, 3, 4, 5, 6],\n",
       "       [9, 7, 6, 8, 9]])"
      ]
     },
     "execution_count": 19,
     "metadata": {},
     "output_type": "execute_result"
    }
   ],
   "source": [
    "multiArr[1:]"
   ]
  },
  {
   "cell_type": "code",
   "execution_count": 20,
   "id": "a630c357",
   "metadata": {},
   "outputs": [
    {
     "data": {
      "text/plain": [
       "array([[4, 5],\n",
       "       [6, 8]])"
      ]
     },
     "execution_count": 20,
     "metadata": {},
     "output_type": "execute_result"
    }
   ],
   "source": [
    "multiArr[1:3, 2:4]"
   ]
  },
  {
   "cell_type": "code",
   "execution_count": 21,
   "id": "f2f0098b",
   "metadata": {},
   "outputs": [
    {
     "data": {
      "text/plain": [
       "array([[3, 4, 5],\n",
       "       [7, 6, 8]])"
      ]
     },
     "execution_count": 21,
     "metadata": {},
     "output_type": "execute_result"
    }
   ],
   "source": [
    "multiArr[1:3, 1:4]"
   ]
  },
  {
   "cell_type": "code",
   "execution_count": 22,
   "id": "2d4638e6",
   "metadata": {},
   "outputs": [],
   "source": [
    "multiArr = np.arange(0, 10, 2) #np.arange generates evenly spaced numbers. (start, end, step)"
   ]
  },
  {
   "cell_type": "code",
   "execution_count": 23,
   "id": "c756c8ad",
   "metadata": {},
   "outputs": [
    {
     "data": {
      "text/plain": [
       "array([0, 2, 4, 6, 8])"
      ]
     },
     "execution_count": 23,
     "metadata": {},
     "output_type": "execute_result"
    }
   ],
   "source": [
    "multiArr"
   ]
  },
  {
   "cell_type": "code",
   "execution_count": 24,
   "id": "9fb2a9e5",
   "metadata": {},
   "outputs": [
    {
     "data": {
      "text/plain": [
       "array([ 1.        ,  1.18367347,  1.36734694,  1.55102041,  1.73469388,\n",
       "        1.91836735,  2.10204082,  2.28571429,  2.46938776,  2.65306122,\n",
       "        2.83673469,  3.02040816,  3.20408163,  3.3877551 ,  3.57142857,\n",
       "        3.75510204,  3.93877551,  4.12244898,  4.30612245,  4.48979592,\n",
       "        4.67346939,  4.85714286,  5.04081633,  5.2244898 ,  5.40816327,\n",
       "        5.59183673,  5.7755102 ,  5.95918367,  6.14285714,  6.32653061,\n",
       "        6.51020408,  6.69387755,  6.87755102,  7.06122449,  7.24489796,\n",
       "        7.42857143,  7.6122449 ,  7.79591837,  7.97959184,  8.16326531,\n",
       "        8.34693878,  8.53061224,  8.71428571,  8.89795918,  9.08163265,\n",
       "        9.26530612,  9.44897959,  9.63265306,  9.81632653, 10.        ])"
      ]
     },
     "execution_count": 24,
     "metadata": {},
     "output_type": "execute_result"
    }
   ],
   "source": [
    "\"\"\"\n",
    "np.linspace: generates even spacing between numbers.\n",
    "1, 10, 50: Starting value, ending value (not included), number of elements.\n",
    "Creates an array of 50 numbers between 1 and 10, evenly spaced.\n",
    "\n",
    "linspace offers more precise control over spacing compared to arange.\n",
    "\"\"\"\n",
    "np.linspace(1, 10, 50)"
   ]
  },
  {
   "cell_type": "code",
   "execution_count": 25,
   "id": "8ae5028d",
   "metadata": {},
   "outputs": [
    {
     "data": {
      "text/plain": [
       "array([4, 5, 6, 7, 8, 9])"
      ]
     },
     "execution_count": 25,
     "metadata": {},
     "output_type": "execute_result"
    }
   ],
   "source": [
    "#copy function and broadcasting\n",
    "arr = np.array([1, 2, 3, 4, 5, 6, 7, 8, 9])\n",
    "arr[3:]"
   ]
  },
  {
   "cell_type": "code",
   "execution_count": 26,
   "id": "79ddd8ca",
   "metadata": {},
   "outputs": [
    {
     "data": {
      "text/plain": [
       "array([  1,   2,   3, 100, 100, 100, 100, 100, 100])"
      ]
     },
     "execution_count": 26,
     "metadata": {},
     "output_type": "execute_result"
    }
   ],
   "source": [
    "arr[3:] = 100\n",
    "arr"
   ]
  },
  {
   "cell_type": "code",
   "execution_count": 27,
   "id": "4f15b890",
   "metadata": {},
   "outputs": [
    {
     "name": "stdout",
     "output_type": "stream",
     "text": [
      "[  1   2   3 500 500 500 500 500 500]\n"
     ]
    }
   ],
   "source": [
    "arr1 = arr\n",
    "arr1[3:] = 500\n",
    "print(arr1)"
   ]
  },
  {
   "cell_type": "code",
   "execution_count": 28,
   "id": "590bce28",
   "metadata": {},
   "outputs": [
    {
     "data": {
      "text/plain": [
       "array([  1,   2,   3, 500, 500, 500, 500, 500, 500])"
      ]
     },
     "execution_count": 28,
     "metadata": {},
     "output_type": "execute_result"
    }
   ],
   "source": [
    "arr"
   ]
  },
  {
   "cell_type": "code",
   "execution_count": 29,
   "id": "a7fbe623",
   "metadata": {},
   "outputs": [],
   "source": [
    "\"\"\"\n",
    "arr1 = arr.copy(): creates a new, independent copy of arr in arr1.\n",
    "Useful for preventing changes to arr from affecting arr1.\n",
    "Different from assignment (arr1 = arr), which only creates a reference.\n",
    "\"\"\"\n",
    "\n",
    "arr1 = arr.copy()"
   ]
  },
  {
   "cell_type": "code",
   "execution_count": 30,
   "id": "20bd4bf2",
   "metadata": {},
   "outputs": [
    {
     "name": "stdout",
     "output_type": "stream",
     "text": [
      "[  1   2   3 500 500 500 500 500 500]\n",
      "[   1    2    3 1000 1000 1000 1000 1000 1000]\n"
     ]
    }
   ],
   "source": [
    "print(arr)\n",
    "arr1[3:] = 1000\n",
    "print(arr1)"
   ]
  },
  {
   "cell_type": "code",
   "execution_count": 31,
   "id": "ec1644be",
   "metadata": {},
   "outputs": [
    {
     "data": {
      "text/plain": [
       "array([ True, False, False, False, False, False, False, False, False])"
      ]
     },
     "execution_count": 31,
     "metadata": {},
     "output_type": "execute_result"
    }
   ],
   "source": [
    "### Some conditions very useful in Explonataty Data Analysis\n",
    "\n",
    "val = 2\n",
    "arr < 2"
   ]
  },
  {
   "cell_type": "code",
   "execution_count": 32,
   "id": "4877fb3f",
   "metadata": {},
   "outputs": [
    {
     "data": {
      "text/plain": [
       "array([   2,    4,    6, 1000, 1000, 1000, 1000, 1000, 1000])"
      ]
     },
     "execution_count": 32,
     "metadata": {},
     "output_type": "execute_result"
    }
   ],
   "source": [
    "arr * 2"
   ]
  },
  {
   "cell_type": "code",
   "execution_count": 33,
   "id": "af92b8cb",
   "metadata": {},
   "outputs": [
    {
     "data": {
      "text/plain": [
       "array([  0.5,   1. ,   1.5, 250. , 250. , 250. , 250. , 250. , 250. ])"
      ]
     },
     "execution_count": 33,
     "metadata": {},
     "output_type": "execute_result"
    }
   ],
   "source": [
    "arr / 2"
   ]
  },
  {
   "cell_type": "code",
   "execution_count": 34,
   "id": "a9dd6a83",
   "metadata": {},
   "outputs": [
    {
     "data": {
      "text/plain": [
       "array([1, 0, 1, 0, 0, 0, 0, 0, 0], dtype=int32)"
      ]
     },
     "execution_count": 34,
     "metadata": {},
     "output_type": "execute_result"
    }
   ],
   "source": [
    "arr % 2"
   ]
  },
  {
   "cell_type": "code",
   "execution_count": 35,
   "id": "20ee8725",
   "metadata": {},
   "outputs": [
    {
     "data": {
      "text/plain": [
       "array([1, 2])"
      ]
     },
     "execution_count": 35,
     "metadata": {},
     "output_type": "execute_result"
    }
   ],
   "source": [
    "arr[arr < 3]"
   ]
  },
  {
   "cell_type": "code",
   "execution_count": 42,
   "id": "9a742b7a",
   "metadata": {},
   "outputs": [
    {
     "data": {
      "text/plain": [
       "array([1, 1, 1, 1, 1, 1, 1, 1, 1, 1, 1, 1, 1, 1, 1, 1, 1, 1, 1, 1])"
      ]
     },
     "execution_count": 42,
     "metadata": {},
     "output_type": "execute_result"
    }
   ],
   "source": [
    "\"\"\"\n",
    "np.ones: Creates arrays filled with 1s.\n",
    "4: Number of elements in the array.\n",
    "dtype=int: Ensures integer data type for elements.\n",
    "\"\"\"\n",
    "\n",
    "np.ones(20, dtype = int)"
   ]
  },
  {
   "cell_type": "code",
   "execution_count": 45,
   "id": "8455b0bd",
   "metadata": {
    "scrolled": true
   },
   "outputs": [
    {
     "data": {
      "text/plain": [
       "array([[0.10637853, 0.72503824, 0.05965371],\n",
       "       [0.22502411, 0.4938258 , 0.04048343],\n",
       "       [0.42567472, 0.54601295, 0.12857453]])"
      ]
     },
     "execution_count": 45,
     "metadata": {},
     "output_type": "execute_result"
    }
   ],
   "source": [
    "np.random.rand(3, 3)"
   ]
  },
  {
   "cell_type": "markdown",
   "id": "d1a48451",
   "metadata": {},
   "source": [
    "**Explanation: random.rand(3, 3)**\n",
    "\n",
    "- **Purpose:** Creates a 3x3 NumPy array filled with random values between 0 (inclusive) and 1 (exclusive).\n",
    "- **Breakdown:**\n",
    "    - `np.`: Refers to the NumPy library.\n",
    "    - `random`:  A submodule of NumPy for generating random numbers.\n",
    "    - `rand`: A function within `random` that creates arrays of random floats.\n",
    "    - `(3, 3)`: Specifies the desired shape of the array, 3 rows and 3 columns.\n",
    "\n",
    "**Short Notes:**\n",
    "\n",
    "- `np.random.rand`: Generates arrays of random floats.\n",
    "- `(3, 3)`: 3 rows, 3 columns.\n",
    "- Values between 0 (inclusive) and 1 (exclusive).\n",
    "\n",
    "**Key Points:**\n",
    "\n",
    "- Useful for initializing arrays with random values for simulations, testing, or machine learning.\n",
    "- Produces a different array each time it's called, ensuring randomness.\n",
    "\n",
    "**Additional Information:**\n",
    "\n",
    "- For other random distributions (e.g., standard normal), use `np.random.randn`.\n",
    "- To control the randomness, consider setting a seed using `np.random.seed`."
   ]
  },
  {
   "cell_type": "code",
   "execution_count": 38,
   "id": "c438731b",
   "metadata": {},
   "outputs": [
    {
     "data": {
      "text/plain": [
       "array([13, 35, 32,  7, 95, 25, 20, 57])"
      ]
     },
     "execution_count": 38,
     "metadata": {},
     "output_type": "execute_result"
    }
   ],
   "source": [
    "np.random.randint(0, 100, 8)"
   ]
  },
  {
   "cell_type": "code",
   "execution_count": 39,
   "id": "abbe73dc",
   "metadata": {},
   "outputs": [
    {
     "data": {
      "text/plain": [
       "array([[27, 23, 29, 87],\n",
       "       [37, 76, 88, 34]])"
      ]
     },
     "execution_count": 39,
     "metadata": {},
     "output_type": "execute_result"
    }
   ],
   "source": [
    "np.random.randint(0, 100, 8).reshape(2, 4)"
   ]
  },
  {
   "cell_type": "code",
   "execution_count": 49,
   "id": "f806f383",
   "metadata": {},
   "outputs": [
    {
     "data": {
      "text/plain": [
       "array([[0.1415306 , 0.49941298, 0.61931647, 0.35958998, 0.70495338]])"
      ]
     },
     "execution_count": 49,
     "metadata": {},
     "output_type": "execute_result"
    }
   ],
   "source": [
    "np.random.random_sample((1, 5))"
   ]
  },
  {
   "cell_type": "markdown",
   "id": "83a2dd25",
   "metadata": {},
   "source": [
    "**Explanation: `np.random.random_sample((1, 5))`:**\n",
    "\n",
    "- **Purpose:** Creates a 1x5 NumPy array filled with random floats between 0 (inclusive) and 1 (exclusive).\n",
    "- **Breakdown:**\n",
    "    - `np.`: Refers to the NumPy library.\n",
    "    - `random`: A submodule of NumPy for generating random numbers.\n",
    "    - `random_sample`: A function within `random` that creates arrays of random floats.\n",
    "    - `(1, 5)`: Specifies the desired shape of the array, 1 row and 5 columns.\n",
    "\n",
    "**Short Notes:**\n",
    "\n",
    "- `np.random.random_sample`: Generates arrays of random floats.\n",
    "- `(1, 5)`: 1 row, 5 columns.\n",
    "- Values between 0 (inclusive) and 1 (exclusive).\n",
    "\n",
    "**Key Points:**\n",
    "\n",
    "- Similar to `np.random.rand`, but with a broader range of possible values.\n",
    "- Also produces a different array each time it's called.\n",
    "\n",
    "**Additional Information:**\n",
    "\n",
    "- For integer-valued random arrays, use `np.random.randint`.\n",
    "- To control the randomness, consider setting a seed using `np.random.seed`.\n"
   ]
  }
 ],
 "metadata": {
  "kernelspec": {
   "display_name": "Python 3 (ipykernel)",
   "language": "python",
   "name": "python3"
  },
  "language_info": {
   "codemirror_mode": {
    "name": "ipython",
    "version": 3
   },
   "file_extension": ".py",
   "mimetype": "text/x-python",
   "name": "python",
   "nbconvert_exporter": "python",
   "pygments_lexer": "ipython3",
   "version": "3.11.5"
  }
 },
 "nbformat": 4,
 "nbformat_minor": 5
}
